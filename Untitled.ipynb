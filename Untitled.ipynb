{
 "cells": [
  {
   "cell_type": "code",
   "execution_count": 1,
   "id": "f7bdad10",
   "metadata": {},
   "outputs": [],
   "source": [
    "import os\n",
    "from matplotlib import pyplot as plt\n",
    "from sklearn.model_selection import train_test_split\n",
    "import numpy as np\n",
    "import pandas as pd\n",
    "import math\n",
    "import dataset_tools as dataset\n",
    "import tensorflow as tf\n",
    "from tensorflow.keras import layers, models, regularizers"
   ]
  },
  {
   "attachments": {},
   "cell_type": "markdown",
   "id": "f923cadf",
   "metadata": {},
   "source": [
    "# Data preprocessing"
   ]
  },
  {
   "cell_type": "code",
   "execution_count": 2,
   "id": "8e6afb87",
   "metadata": {},
   "outputs": [],
   "source": [
    "def get_joint_distances(skeleton):\n",
    "    distances = {}\n",
    "    for joint1_name, joint1_data in skeleton.items():\n",
    "        distances[joint1_name] = {}\n",
    "        joint1_coords = np.array(list(zip(joint1_data['x'], joint1_data['y'], joint1_data['z'])))\n",
    "        joint1_mask = ~pd.DataFrame(joint1_coords).isna().any(axis=1).values\n",
    "        for joint2_name, joint2_data in skeleton.items():\n",
    "            if joint1_name == joint2_name:\n",
    "                distances[joint1_name][joint2_name] = np.zeros_like(joint1_coords[:,0])\n",
    "                continue\n",
    "            joint2_coords = np.array(list(zip(joint2_data['x'], joint2_data['y'], joint2_data['z'])))\n",
    "            joint2_mask = ~pd.DataFrame(joint2_coords).isna().any(axis=1).values\n",
    "            mask = joint1_mask & joint2_mask\n",
    "            dists = np.linalg.norm(joint1_coords[mask] - joint2_coords[mask], axis=1)\n",
    "            distances[joint1_name][joint2_name] = np.zeros_like(joint1_coords[:,0])\n",
    "            distances[joint1_name][joint2_name][mask] = dists\n",
    "    return distances\n",
    "\n",
    "def get_gaze_position(gaze):\n",
    "    coords = np.array(list(zip(gaze['rx'], gaze['ry'], gaze['rz'])))\n",
    "    mask = ~pd.DataFrame(coords).isna().any(axis=1).values\n",
    "    final = coords[mask]\n",
    "    return final\n",
    "\n",
    "def get_joint_angles(skeleton):\n",
    "    angles = {}\n",
    "    for joint1, joint2, joint3 in [(\"head\", \"sholder_center\", \"sholder_left\"),\n",
    "                                    (\"head\", \"sholder_center\", \"sholder_right\"),\n",
    "                                    (\"sholder_center\", \"sholder_left\", \"elbow_left\"),\n",
    "                                    (\"sholder_center\", \"sholder_right\", \"elbow_right\"),\n",
    "                                    (\"sholder_left\", \"elbow_left\", \"wrist_left\"),\n",
    "                                    (\"sholder_right\", \"elbow_right\", \"wrist_right\"),\n",
    "                                    (\"elbow_left\", \"wrist_left\", \"hand_left\"),\n",
    "                                    (\"elbow_right\", \"wrist_right\", \"hand_right\")]:\n",
    "        joint1_x = np.array(skeleton[joint1][\"x\"])\n",
    "        joint1_y = np.array(skeleton[joint1][\"y\"])\n",
    "        joint1_z = np.array(skeleton[joint1][\"z\"])\n",
    "        joint2_x = np.array(skeleton[joint2][\"x\"])\n",
    "        joint2_y = np.array(skeleton[joint2][\"y\"])\n",
    "        joint2_z = np.array(skeleton[joint2][\"z\"])\n",
    "        joint3_x = np.array(skeleton[joint3][\"x\"])\n",
    "        joint3_y = np.array(skeleton[joint3][\"y\"])\n",
    "        joint3_z = np.array(skeleton[joint3][\"z\"])\n",
    "        null_values = pd.isna(joint1_x) | pd.isna(joint1_y) | pd.isna(joint1_z) | pd.isna(joint2_x) | pd.isna(joint2_y) | pd.isna(joint2_z) | pd.isna(joint3_x) | pd.isna(joint3_y) | pd.isna(joint3_z)\n",
    "        angles[(joint1, joint2, joint3)] = np.zeros((len(joint1_x) - null_values.sum(),))\n",
    "        k = 0\n",
    "        for i in range(len(joint1_x)):\n",
    "            if not null_values[i]:\n",
    "                p1 = np.array([joint1_x[i], joint1_y[i], joint1_z[i]])\n",
    "                p2 = np.array([joint2_x[i], joint2_y[i], joint2_z[i]])\n",
    "                p3 = np.array([joint3_x[i], joint3_y[i], joint3_z[i]])\n",
    "                v1 = p2 - p1\n",
    "                v2 = p3 - p2\n",
    "                dot_product = np.dot(v1, v2)\n",
    "                magnitude_product = np.linalg.norm(v1) * np.linalg.norm(v2)\n",
    "                \n",
    "                if abs(magnitude_product):\n",
    "                    product_division = dot_product / magnitude_product\n",
    "                else:\n",
    "                    if abs(dot_product):\n",
    "                        if dot_product > 0:\n",
    "                            product_division = 1\n",
    "                        else:\n",
    "                            product_division = -1\n",
    "                    else:\n",
    "                        product_division = 0\n",
    "\n",
    "                if product_division < -1:\n",
    "                    product_division = -1\n",
    "                elif product_division > 1:\n",
    "                    product_division = 1\n",
    "                    \n",
    "                angle = np.arccos(product_division)\n",
    "                angles[(joint1, joint2, joint3)][k] = angle\n",
    "                k += 1\n",
    "    return angles\n",
    "\n",
    "def plot_3d_scatter_graph(x_sequence, y_sequence, z_sequence, title=None):\n",
    "    fig = plt.figure(figsize=(12,12))\n",
    "    ax = fig.add_subplot(projection='3d')\n",
    "    ax.scatter(x_sequence, y_sequence, z_sequence)\n",
    "    plt.title(title)\n",
    "    ax.set_xlabel(\"x\")\n",
    "    ax.set_ylabel(\"y\")\n",
    "    ax.set_zlabel(\"z\")\n",
    "    plt.show()\n",
    "\n",
    "def plot_2d_scatter_graph(sequence1, sequence2, title=None, sequence1_name=None, sequence2_name=None):\n",
    "    fig = plt.figure(figsize=(12,12))\n",
    "    ax = fig.add_subplot()\n",
    "    ax.scatter(sequence1, sequence2)\n",
    "    plt.title(title)\n",
    "    plt.xlabel(sequence1_name)\n",
    "    plt.ylabel(sequence2_name)\n",
    "    plt.show()\n",
    "\n",
    "def convert_gaze_to_2d(head_gaze, eye_gaze, screen_distance):\n",
    "    # Normalize the camera direction vector and ray vector\n",
    "    cam_dir = head_gaze / np.linalg.norm(head_gaze, axis=1)[:, np.newaxis]\n",
    "    ray = eye_gaze / np.linalg.norm(eye_gaze, axis=1)[:, np.newaxis]\n",
    "    \n",
    "    if cam_dir.shape[0] != ray.shape[0]:\n",
    "        if cam_dir.shape[0] > ray.shape[0]:\n",
    "            cam_dir = cam_dir[:ray.shape[0]]\n",
    "        else:\n",
    "            ray = ray[:cam_dir.shape[0]]\n",
    "    dot_prod = np.sum(cam_dir*ray, axis=1)\n",
    "    \n",
    "    # Calculate the distance from the camera to the plane\n",
    "    plane_dist = screen_distance / dot_prod\n",
    "    \n",
    "    # Calculate the projected point on the plane\n",
    "    proj_point = plane_dist.reshape((-1,1)) * ray\n",
    "    return proj_point[:, :2]\n",
    "\n",
    "def scale_points(points, image_width, image_height):\n",
    "    # Scale the point to the resolution of the image\n",
    "    x = ((points[:, 0] + 0.5) * image_width).astype(int)\n",
    "    y = ((points[:, 1] + 0.5) * image_height).astype(int)\n",
    "\n",
    "    # Return the scaled points as a numpy array of (x, y) coordinates\n",
    "    return np.column_stack((x, y))\n",
    "\n",
    "def point_distribution(coords, grid, buffer=0):\n",
    "    n = grid\n",
    "    # Shift the coordinates to the positive quadrant\n",
    "    try:\n",
    "        shift = np.min(coords, axis=0)\n",
    "    except ValueError:\n",
    "        print(coords.shape)\n",
    "    coords = coords - shift\n",
    "    # Scale the coordinates to fit within the grid with buffer zone\n",
    "    scale = (n - 2 * buffer) / np.max(coords)\n",
    "    x, y = np.floor(scale * coords).astype(int).T + buffer\n",
    "    counts = np.zeros((n, n), dtype=int)\n",
    "    # Only add to counts if the coordinates are within the grid boundaries\n",
    "    valid_indices = np.where((x >= 0) & (x < n) & (y >= 0) & (y < n))\n",
    "    np.add.at(counts, (x[valid_indices], y[valid_indices]), 1)\n",
    "    return counts\n",
    "\n",
    "def plot_heatmap(distribution):\n",
    "    n_rows, n_cols = distribution.shape\n",
    "    \n",
    "    # Define the boundaries of the heatmap\n",
    "    x_min = -0.5\n",
    "    x_max = 0.5\n",
    "    y_min = -0.5\n",
    "    y_max = 0.5\n",
    "    \n",
    "    # Create a grid of x and y coordinates for the heatmap cells\n",
    "    x_vals = np.linspace(x_min, x_max, n_cols+1)\n",
    "    y_vals = np.linspace(y_min, y_max, n_rows+1)\n",
    "    x, y = np.meshgrid(x_vals, y_vals)\n",
    "    \n",
    "    fig = plt.figure(figsize=(12,12))\n",
    "    ax = fig.add_subplot()\n",
    "    heatmap = ax.pcolormesh(x, y, distribution, cmap='jet')\n",
    "    cbar = fig.colorbar(heatmap)\n",
    "    \n",
    "    # Set the x and y limits of the plot\n",
    "    ax.set_xlim([x_min, x_max])\n",
    "    ax.set_ylim([y_min, y_max])\n",
    "    \n",
    "    ax.set_xlabel('X')\n",
    "    ax.set_ylabel('Y')\n",
    "    \n",
    "    ax.set_title('Point Distribution Heatmap')\n",
    "    plt.show()\n",
    "\n",
    "def create_vision_vectors(coordinates):\n",
    "    vectors = np.empty((coordinates.shape[0] - 1, 2))\n",
    "\n",
    "    # Iterate over each point in the shape, except for the last one\n",
    "    for i in range(coordinates.shape[0] - 1):\n",
    "        # Calculate the vector from the current point to the next one\n",
    "        vector = coordinates[i + 1] - coordinates[i]\n",
    "        # Add the vector to the array\n",
    "        vectors[i] = vector\n",
    "\n",
    "    return vectors\n",
    "\n",
    "def display_vectors(points, vectors):\n",
    "    fig = plt.figure(figsize=(12,12))\n",
    "    ax = fig.add_subplot()\n",
    "    points = points[:points.shape[0]-1]\n",
    "    ax.set_aspect('equal')\n",
    "    ax.quiver(points[:,0], points[:,1], vectors[:,0], vectors[:,1], scale_units='xy', angles='xy', scale=1)\n",
    "    plt.show()\n",
    "\n",
    "def get_displacement_score(vectors):\n",
    "    normals = np.linalg.norm(vectors, axis=1)\n",
    "    return np.mean(normals)"
   ]
  },
  {
   "cell_type": "code",
   "execution_count": null,
   "id": "04c00e4e",
   "metadata": {},
   "outputs": [],
   "source": [
    "users = {}\n",
    "for Dir in os.listdir('Dream_dataset'):\n",
    "        for root, dirs, files in os.walk('Dream_dataset/{}'.format(Dir)):\n",
    "            sessions = []\n",
    "            users[Dir] = None\n",
    "            for f in files:\n",
    "                if not f.endswith('.json'): continue\n",
    "                data = dataset.open(os.path.join(root,f))\n",
    "\n",
    "                if users[Dir] == None:\n",
    "                    users[Dir] = {}\n",
    "                    users[Dir]['ados'] = data['ados']['preTest']  \n",
    "                \n",
    "                session = {}\n",
    "                session['head_gaze'] = get_gaze_position(data['head_gaze'])\n",
    "                session['eye_gaze'] = get_gaze_position(data['eye_gaze'])\n",
    "                \n",
    "                session['2d_gaze_points'] = convert_gaze_to_2d(session['head_gaze'], session['eye_gaze'], 1)\n",
    "                session['gaze_distribution'] = point_distribution(session['2d_gaze_points'], 64).T\n",
    "                session['gaze_displacement'] = create_vision_vectors(session['2d_gaze_points'])\n",
    "\n",
    "                session['joint_angles'] = get_joint_angles(data['skeleton'])\n",
    "                session['joint_distance'] = get_joint_distances(data['skeleton'])\n",
    "\n",
    "                sessions.append(session)\n",
    "            \n",
    "            if users[Dir] != None:\n",
    "                users[Dir][\n",
    "                    'sessions'] = sessions\n",
    "            print(\"added \" + Dir)"
   ]
  },
  {
   "attachments": {},
   "cell_type": "markdown",
   "id": "02df386f",
   "metadata": {},
   "source": [
    "# create data train/test split"
   ]
  },
  {
   "cell_type": "code",
   "execution_count": 3,
   "id": "b7f67620",
   "metadata": {},
   "outputs": [],
   "source": [
    "data = []\n",
    "labels = []\n",
    "for f in os.listdir('Processed'):\n",
    "    user = f.split('.')[0]\n",
    "    user_data = np.load('Processed/'+f, allow_pickle=True)\n",
    "\n",
    "    first_file = os.listdir('Dream_Dataset/'+user)[0]\n",
    "    session = dataset.open('Dream_Dataset/{}/{}'.format(user, first_file))\n",
    "\n",
    "    for s in user_data:\n",
    "        data.append([user, s['gaze_distribution'], s['gaze_displacement'], s['joint_angles'], s['joint_distance']])\n",
    "        labels.append(\n",
    "            [session['ados']['preTest']['communication'],\n",
    "            session['ados']['preTest']['interaction'],\n",
    "            session['ados']['preTest']['play'],\n",
    "            session['ados']['preTest']['socialCommunicationQuestionnaire'],\n",
    "            session['ados']['preTest']['stereotype'],\n",
    "            session['ados']['preTest']['total']\n",
    "            ]) "
   ]
  },
  {
   "cell_type": "code",
   "execution_count": 4,
   "id": "ea7e4cfd",
   "metadata": {},
   "outputs": [],
   "source": [
    "data = np.array(data, dtype=object)\n",
    "labels = np.array(labels)\n",
    "\n",
    "train_data, test_data, train_labels, test_labels = train_test_split(data, labels, test_size=0.2, random_state=1)\n",
    "\n",
    "train_data_gaze_distribution = np.stack(train_data[:, 1], axis=0)\n",
    "test_data_gaze_distribution = np.stack(test_data[:, 1], axis=0)"
   ]
  },
  {
   "cell_type": "code",
   "execution_count": 5,
   "id": "1c82243a",
   "metadata": {},
   "outputs": [
    {
     "data": {
      "text/plain": [
       "array([ 2.,  3.,  4.,  5.,  6.,  7.,  8., 10.])"
      ]
     },
     "execution_count": 5,
     "metadata": {},
     "output_type": "execute_result"
    }
   ],
   "source": [
    "np.unique(labels[:, 0])"
   ]
  },
  {
   "cell_type": "code",
   "execution_count": 6,
   "id": "3c65a09f",
   "metadata": {},
   "outputs": [
    {
     "data": {
      "text/plain": [
       "array([ 3.,  5.,  6.,  7.,  8.,  9., 10., 11., 12., 13.])"
      ]
     },
     "execution_count": 6,
     "metadata": {},
     "output_type": "execute_result"
    }
   ],
   "source": [
    "np.unique(labels[:, 1])"
   ]
  },
  {
   "cell_type": "code",
   "execution_count": 7,
   "id": "a68a17a9",
   "metadata": {},
   "outputs": [
    {
     "data": {
      "text/plain": [
       "array([0., 1., 2., 3., 4.])"
      ]
     },
     "execution_count": 7,
     "metadata": {},
     "output_type": "execute_result"
    }
   ],
   "source": [
    "np.unique(labels[:, 2])"
   ]
  },
  {
   "cell_type": "code",
   "execution_count": 8,
   "id": "e0557f4e",
   "metadata": {},
   "outputs": [
    {
     "data": {
      "text/plain": [
       "array([0., 1., 2., 3., 4., 5., 6.])"
      ]
     },
     "execution_count": 8,
     "metadata": {},
     "output_type": "execute_result"
    }
   ],
   "source": [
    "np.unique(labels[:, 4])"
   ]
  },
  {
   "attachments": {},
   "cell_type": "markdown",
   "id": "b00afa35",
   "metadata": {},
   "source": [
    "# CNN"
   ]
  },
  {
   "attachments": {},
   "cell_type": "markdown",
   "id": "b779f038",
   "metadata": {},
   "source": [
    "### normalize data"
   ]
  },
  {
   "cell_type": "code",
   "execution_count": 9,
   "id": "266e7875",
   "metadata": {},
   "outputs": [],
   "source": [
    "def normalize_gaze_distribution(gaze_distribution):\n",
    "    max_values = np.max(gaze_distribution, axis=(1,2))\n",
    "    return gaze_distribution / max_values[:, np.newaxis, np.newaxis]"
   ]
  },
  {
   "cell_type": "code",
   "execution_count": 10,
   "id": "2f957910",
   "metadata": {},
   "outputs": [],
   "source": [
    "train_data_gaze_distribution = normalize_gaze_distribution(train_data_gaze_distribution)\n",
    "test_data_gaze_distribution = normalize_gaze_distribution(test_data_gaze_distribution)"
   ]
  },
  {
   "attachments": {},
   "cell_type": "markdown",
   "id": "0eb20a89",
   "metadata": {},
   "source": [
    "### Create Model"
   ]
  },
  {
   "cell_type": "code",
   "execution_count": 29,
   "id": "011aca30",
   "metadata": {},
   "outputs": [],
   "source": [
    "def image_cnn(image_size):\n",
    "    model = models.Sequential()\n",
    "    model.add(layers.Conv2D(32, (3,3), activation='relu', input_shape=image_size))\n",
    "    model.add(layers.MaxPooling2D((2, 2)))\n",
    "    model.add(layers.Conv2D(64, (3, 3), activation='relu'))\n",
    "    model.add(layers.MaxPooling2D((2, 2)))\n",
    "    model.add(layers.Conv2D(128, (3, 3), activation='relu'))\n",
    "    model.add(layers.MaxPooling2D((2, 2)))\n",
    "    model.add(layers.Flatten())\n",
    "    model.add(layers.Dense(128, activation='relu', kernel_regularizer=regularizers.l2(l2=0.01)))\n",
    "    model.add(layers.Dense(64, activation='relu', kernel_regularizer=regularizers.l2(l2=0.01)))\n",
    "    model.add(layers.Dense(3, activation='relu'))\n",
    "    model.compile(optimizer=tf.keras.optimizers.Adam(learning_rate=0.0001),\n",
    "              loss='mae',\n",
    "              metrics=['mae'])\n",
    "    return model"
   ]
  },
  {
   "attachments": {},
   "cell_type": "markdown",
   "id": "c1bb0ab0",
   "metadata": {},
   "source": [
    "### train model"
   ]
  },
  {
   "cell_type": "code",
   "execution_count": 30,
   "id": "34cec388",
   "metadata": {},
   "outputs": [
    {
     "name": "stdout",
     "output_type": "stream",
     "text": [
      "Epoch 1/50\n",
      "63/63 [==============================] - 7s 81ms/step - loss: 6.8724 - mae: 4.0588 - val_loss: 4.1853 - val_mae: 1.7978\n",
      "Epoch 2/50\n",
      "63/63 [==============================] - 4s 69ms/step - loss: 3.8053 - mae: 1.7148 - val_loss: 3.4830 - val_mae: 1.6651\n",
      "Epoch 3/50\n",
      "63/63 [==============================] - 4s 57ms/step - loss: 3.2333 - mae: 1.6104 - val_loss: 3.0517 - val_mae: 1.6077\n",
      "Epoch 4/50\n",
      "63/63 [==============================] - 5s 76ms/step - loss: 2.8753 - mae: 1.5589 - val_loss: 2.7490 - val_mae: 1.5509\n",
      "Epoch 5/50\n",
      "63/63 [==============================] - 5s 78ms/step - loss: 2.6452 - mae: 1.5371 - val_loss: 2.5380 - val_mae: 1.5139\n",
      "Epoch 6/50\n",
      "63/63 [==============================] - 4s 61ms/step - loss: 2.4815 - mae: 1.5214 - val_loss: 2.4089 - val_mae: 1.5094\n",
      "Epoch 7/50\n",
      "63/63 [==============================] - 4s 60ms/step - loss: 2.3504 - mae: 1.5001 - val_loss: 2.3093 - val_mae: 1.5062\n",
      "Epoch 8/50\n",
      "63/63 [==============================] - 4s 62ms/step - loss: 2.2597 - mae: 1.4950 - val_loss: 2.2308 - val_mae: 1.5045\n",
      "Epoch 9/50\n",
      "63/63 [==============================] - 4s 72ms/step - loss: 2.1631 - mae: 1.4677 - val_loss: 2.1465 - val_mae: 1.4824\n",
      "Epoch 10/50\n",
      "63/63 [==============================] - 4s 66ms/step - loss: 2.1173 - mae: 1.4808 - val_loss: 2.1429 - val_mae: 1.5345\n",
      "Epoch 11/50\n",
      "63/63 [==============================] - 4s 63ms/step - loss: 2.0592 - mae: 1.4732 - val_loss: 2.0518 - val_mae: 1.4900\n",
      "Epoch 12/50\n",
      "63/63 [==============================] - 4s 70ms/step - loss: 2.0032 - mae: 1.4619 - val_loss: 2.0013 - val_mae: 1.4801\n",
      "Epoch 13/50\n",
      "63/63 [==============================] - 4s 62ms/step - loss: 1.9465 - mae: 1.4440 - val_loss: 1.9657 - val_mae: 1.4822\n",
      "Epoch 14/50\n",
      "63/63 [==============================] - 4s 64ms/step - loss: 1.9189 - mae: 1.4519 - val_loss: 1.9176 - val_mae: 1.4674\n",
      "Epoch 15/50\n",
      "63/63 [==============================] - 4s 67ms/step - loss: 1.8834 - mae: 1.4476 - val_loss: 1.8780 - val_mae: 1.4569\n",
      "Epoch 16/50\n",
      "63/63 [==============================] - 4s 67ms/step - loss: 1.8428 - mae: 1.4351 - val_loss: 1.8434 - val_mae: 1.4493\n",
      "Epoch 17/50\n",
      "63/63 [==============================] - 4s 56ms/step - loss: 1.8098 - mae: 1.4280 - val_loss: 1.8229 - val_mae: 1.4525\n",
      "Epoch 18/50\n",
      "63/63 [==============================] - 4s 66ms/step - loss: 1.7840 - mae: 1.4245 - val_loss: 1.7889 - val_mae: 1.4410\n",
      "Epoch 19/50\n",
      "63/63 [==============================] - 4s 65ms/step - loss: 1.7598 - mae: 1.4212 - val_loss: 1.7609 - val_mae: 1.4321\n",
      "Epoch 20/50\n",
      "63/63 [==============================] - 4s 60ms/step - loss: 1.7312 - mae: 1.4112 - val_loss: 1.7446 - val_mae: 1.4336\n",
      "Epoch 21/50\n",
      "63/63 [==============================] - 3s 55ms/step - loss: 1.7100 - mae: 1.4070 - val_loss: 1.7364 - val_mae: 1.4417\n",
      "Epoch 22/50\n",
      "63/63 [==============================] - 4s 64ms/step - loss: 1.7050 - mae: 1.4172 - val_loss: 1.7178 - val_mae: 1.4374\n",
      "Epoch 23/50\n",
      "63/63 [==============================] - 4s 56ms/step - loss: 1.6911 - mae: 1.4169 - val_loss: 1.7393 - val_mae: 1.4717\n",
      "Epoch 24/50\n",
      "63/63 [==============================] - 4s 62ms/step - loss: 1.6705 - mae: 1.4082 - val_loss: 1.6806 - val_mae: 1.4244\n",
      "Epoch 25/50\n",
      "63/63 [==============================] - 4s 67ms/step - loss: 1.6562 - mae: 1.4053 - val_loss: 1.6739 - val_mae: 1.4279\n",
      "Epoch 26/50\n",
      "63/63 [==============================] - 4s 64ms/step - loss: 1.6419 - mae: 1.4008 - val_loss: 1.7069 - val_mae: 1.4713\n",
      "Epoch 27/50\n",
      "63/63 [==============================] - 4s 64ms/step - loss: 1.6285 - mae: 1.3968 - val_loss: 1.6472 - val_mae: 1.4198\n",
      "Epoch 28/50\n",
      "63/63 [==============================] - 4s 71ms/step - loss: 1.6090 - mae: 1.3853 - val_loss: 1.6489 - val_mae: 1.4298\n",
      "Epoch 29/50\n",
      "63/63 [==============================] - 4s 57ms/step - loss: 1.6129 - mae: 1.3972 - val_loss: 1.6460 - val_mae: 1.4343\n",
      "Epoch 30/50\n",
      "63/63 [==============================] - 4s 65ms/step - loss: 1.6144 - mae: 1.4055 - val_loss: 1.6427 - val_mae: 1.4366\n",
      "Epoch 31/50\n",
      "63/63 [==============================] - 5s 83ms/step - loss: 1.5883 - mae: 1.3856 - val_loss: 1.6186 - val_mae: 1.4188\n",
      "Epoch 32/50\n",
      "63/63 [==============================] - 3s 49ms/step - loss: 1.5727 - mae: 1.3760 - val_loss: 1.6410 - val_mae: 1.4473\n",
      "Epoch 33/50\n",
      "63/63 [==============================] - 4s 64ms/step - loss: 1.5648 - mae: 1.3730 - val_loss: 1.6035 - val_mae: 1.4141\n",
      "Epoch 34/50\n",
      "63/63 [==============================] - 3s 49ms/step - loss: 1.5673 - mae: 1.3803 - val_loss: 1.6082 - val_mae: 1.4233\n",
      "Epoch 35/50\n",
      "63/63 [==============================] - 4s 67ms/step - loss: 1.5624 - mae: 1.3801 - val_loss: 1.6236 - val_mae: 1.4428\n",
      "Epoch 36/50\n",
      "63/63 [==============================] - 4s 67ms/step - loss: 1.5481 - mae: 1.3697 - val_loss: 1.5875 - val_mae: 1.4112\n",
      "Epoch 37/50\n",
      "63/63 [==============================] - 4s 67ms/step - loss: 1.5424 - mae: 1.3681 - val_loss: 1.6033 - val_mae: 1.4312\n",
      "Epoch 38/50\n",
      "63/63 [==============================] - 3s 46ms/step - loss: 1.5436 - mae: 1.3729 - val_loss: 1.5790 - val_mae: 1.4098\n",
      "Epoch 39/50\n",
      "63/63 [==============================] - 4s 67ms/step - loss: 1.5408 - mae: 1.3733 - val_loss: 1.5693 - val_mae: 1.4034\n",
      "Epoch 40/50\n",
      "63/63 [==============================] - 4s 61ms/step - loss: 1.5302 - mae: 1.3656 - val_loss: 1.5682 - val_mae: 1.4048\n",
      "Epoch 41/50\n",
      "63/63 [==============================] - 4s 63ms/step - loss: 1.5339 - mae: 1.3720 - val_loss: 1.6196 - val_mae: 1.4588\n",
      "Epoch 42/50\n",
      "63/63 [==============================] - 4s 70ms/step - loss: 1.5322 - mae: 1.3728 - val_loss: 1.5758 - val_mae: 1.4168\n",
      "Epoch 43/50\n",
      "63/63 [==============================] - 4s 64ms/step - loss: 1.5168 - mae: 1.3590 - val_loss: 1.5624 - val_mae: 1.4062\n",
      "Epoch 44/50\n",
      "63/63 [==============================] - 4s 67ms/step - loss: 1.5042 - mae: 1.3493 - val_loss: 1.5574 - val_mae: 1.4032\n",
      "Epoch 45/50\n",
      "63/63 [==============================] - 4s 71ms/step - loss: 1.5191 - mae: 1.3664 - val_loss: 1.5884 - val_mae: 1.4367\n",
      "Epoch 46/50\n",
      "63/63 [==============================] - 4s 68ms/step - loss: 1.5070 - mae: 1.3564 - val_loss: 1.5737 - val_mae: 1.4237\n",
      "Epoch 47/50\n",
      "63/63 [==============================] - 4s 67ms/step - loss: 1.5030 - mae: 1.3543 - val_loss: 1.5558 - val_mae: 1.4080\n",
      "Epoch 48/50\n",
      "63/63 [==============================] - 4s 68ms/step - loss: 1.5020 - mae: 1.3552 - val_loss: 1.5454 - val_mae: 1.3997\n",
      "Epoch 49/50\n",
      "63/63 [==============================] - 4s 61ms/step - loss: 1.4992 - mae: 1.3541 - val_loss: 1.5921 - val_mae: 1.4479\n",
      "Epoch 50/50\n",
      "63/63 [==============================] - 4s 60ms/step - loss: 1.4863 - mae: 1.3426 - val_loss: 1.5466 - val_mae: 1.4036\n"
     ]
    }
   ],
   "source": [
    "model = image_cnn((64,64,1))\n",
    "history = model.fit(train_data_gaze_distribution, train_labels[:, [0, 1, 2]], epochs=50, batch_size=32, validation_split=0.2)"
   ]
  },
  {
   "attachments": {},
   "cell_type": "markdown",
   "id": "3497ca77",
   "metadata": {},
   "source": [
    "### Training over time"
   ]
  },
  {
   "cell_type": "code",
   "execution_count": 31,
   "id": "2ebbfb5f",
   "metadata": {},
   "outputs": [
    {
     "data": {
      "image/png": "[encoded data removed]",
      "text/plain": [
       "<Figure size 640x480 with 1 Axes>"
      ]
     },
     "metadata": {},
     "output_type": "display_data"
    }
   ],
   "source": [
    "train_loss = history.history['loss']\n",
    "val_loss = history.history['val_loss']\n",
    "epochs = range(1, len(train_loss) + 1)\n",
    "plt.plot(epochs, train_loss, 'b', label='Training Loss')\n",
    "plt.plot(epochs, val_loss, 'r', label='Validation Loss')\n",
    "plt.title('Training and Validation Loss')\n",
    "plt.xlabel('Epochs')\n",
    "plt.ylabel('Loss')\n",
    "plt.legend()\n",
    "plt.show()"
   ]
  },
  {
   "cell_type": "markdown",
   "id": "c7365567",
   "metadata": {},
   "source": [
    "#### evaluate on test data"
   ]
  },
  {
   "cell_type": "code",
   "execution_count": 33,
   "id": "e1a2b983",
   "metadata": {},
   "outputs": [
    {
     "name": "stdout",
     "output_type": "stream",
     "text": [
      "20/20 [==============================] - 1s 46ms/step - loss: 1.5213 - mae: 1.3783\n",
      "test loss, test mae: [1.521255612373352, 1.3783284425735474]\n"
     ]
    }
   ],
   "source": [
    "results = model.evaluate(test_data_gaze_distribution, test_labels[:, [0, 1, 2]], batch_size=32)\n",
    "print(\"test loss, test mae:\", results)"
   ]
  },
  {
   "attachments": {},
   "cell_type": "markdown",
   "id": "fdace24a",
   "metadata": {},
   "source": [
    "#### generate predictions"
   ]
  },
  {
   "cell_type": "code",
   "execution_count": 34,
   "id": "2802b7b7",
   "metadata": {},
   "outputs": [
    {
     "name": "stdout",
     "output_type": "stream",
     "text": [
      "1/1 [==============================] - 0s 212ms/step\n",
      "predictions:\n",
      " [[ 5.4083323  9.178156   2.2288074]\n",
      " [ 5.4485908  8.644152   2.0796824]\n",
      " [ 3.946274   7.635785   1.9552795]\n",
      " [ 3.387027   7.7693377  2.1368778]\n",
      " [ 5.2295303  8.920281   1.81818  ]\n",
      " [ 4.2587214  8.478838   1.2380115]\n",
      " [ 4.4662976  8.779711   1.8057306]\n",
      " [ 3.931899   8.34186    1.9921497]\n",
      " [ 6.0419965 10.318648   2.044482 ]\n",
      " [ 5.018933   9.270299   2.4388688]]\n",
      "labels:\n",
      " [[ 8.  8.  2. 16.]\n",
      " [ 7. 13.  4. 20.]\n",
      " [ 2.  5.  1.  7.]\n",
      " [ 3.  5.  2.  8.]\n",
      " [ 6. 12.  2. 18.]\n",
      " [ 6.  9.  2. 15.]\n",
      " [ 8. 11.  3. 19.]\n",
      " [ 5.  9.  4. 14.]\n",
      " [ 7. 11.  2. 18.]\n",
      " [ 6. 12.  4. 18.]]\n"
     ]
    }
   ],
   "source": [
    "predictions = model.predict(test_data_gaze_distribution[:10])\n",
    "print(\"predictions:\\n\", predictions)\n",
    "print(\"labels:\\n\", test_labels[:10, [0, 1, 2, 5]])"
   ]
  },
  {
   "attachments": {},
   "cell_type": "markdown",
   "id": "7abd69b1",
   "metadata": {},
   "source": [
    "# DNN (gaze)"
   ]
  },
  {
   "cell_type": "code",
   "execution_count": null,
   "id": "8e6edba6",
   "metadata": {},
   "outputs": [],
   "source": [
    "def image_dnn(image_size):\n",
    "    model = models.Sequential()\n",
    "    model.add(layers.Flatten(input_shape=image_size))\n",
    "    model.add(layers.Dense(128, activation='relu', kernel_regularizer=regularizers.l2()))\n",
    "    model.add(layers.Dense(64, activation='relu', kernel_regularizer=regularizers.l2()))\n",
    "    model.add(layers.Dense(3, activation='relu'))\n",
    "    model.compile(optimizer=tf.keras.optimizers.Adam(learning_rate=0.0001),\n",
    "              loss='mae',\n",
    "              metrics=['mae'])\n",
    "    return model"
   ]
  },
  {
   "cell_type": "code",
   "execution_count": null,
   "id": "a894c1d5",
   "metadata": {},
   "outputs": [],
   "source": [
    "model = image_dnn((64,64,1))\n",
    "history = model.fit(train_data_gaze_distribution, train_labels[:, [0, 1, 2]], epochs=50, batch_size=32, validation_split=0.2)"
   ]
  },
  {
   "cell_type": "code",
   "execution_count": null,
   "id": "3e5e73e0",
   "metadata": {},
   "outputs": [],
   "source": [
    "train_loss = history.history['loss']\n",
    "val_loss = history.history['val_loss']\n",
    "epochs = range(1, len(train_loss) + 1)\n",
    "plt.plot(epochs, train_loss, 'b', label='Training Loss')\n",
    "plt.plot(epochs, val_loss, 'r', label='Validation Loss')\n",
    "plt.title('Training and Validation Loss')\n",
    "plt.xlabel('Epochs')\n",
    "plt.ylabel('Loss')\n",
    "plt.legend()\n",
    "plt.show()"
   ]
  },
  {
   "cell_type": "code",
   "execution_count": null,
   "id": "a907e52b",
   "metadata": {},
   "outputs": [],
   "source": [
    "results = model.evaluate(test_data_gaze_distribution, test_labels[:, [0, 1, 2]], batch_size=32)\n",
    "print(\"test loss, test acc:\", results)"
   ]
  },
  {
   "cell_type": "code",
   "execution_count": null,
   "id": "25590aed",
   "metadata": {},
   "outputs": [],
   "source": [
    "predictions = model.predict(test_data_gaze_distribution[:10])\n",
    "print(\"predictions:\\n\", predictions)\n",
    "print(\"labels:\\n\", test_labels[:10, [0, 1, 2]])"
   ]
  },
  {
   "attachments": {},
   "cell_type": "markdown",
   "id": "183d7a7c",
   "metadata": {},
   "source": [
    "# skeleton"
   ]
  },
  {
   "cell_type": "code",
   "execution_count": 68,
   "id": "a2cdf250",
   "metadata": {},
   "outputs": [
    {
     "name": "stderr",
     "output_type": "stream",
     "text": [
      "C:\\Users\\valen\\AppData\\Local\\Temp\\ipykernel_12608\\1837681.py:1: VisibleDeprecationWarning: Creating an ndarray from ragged nested sequences (which is a list-or-tuple of lists-or-tuples-or ndarrays with different lengths or shapes) is deprecated. If you meant to do this, you must specify 'dtype=object' when creating the ndarray.\n",
      "  np.array([list(d.values()) for d in train_data[:, 3]])[0]\n"
     ]
    },
    {
     "data": {
      "text/plain": [
       "array([array([1.03713433, 1.04868328, 1.06419831, ..., 0.7986456 , 0.79983322,\n",
       "              0.80138691])                                                    ,\n",
       "       array([1.28219174, 1.27302471, 1.27341813, ..., 1.96667698, 1.96683196,\n",
       "              1.96693166])                                                    ,\n",
       "       array([0.91176521, 0.91586023, 0.92516867, ..., 1.43067163, 1.39116302,\n",
       "              1.45504591])                                                    ,\n",
       "       array([1.02279362, 1.01781431, 1.01838564, ..., 1.13344071, 1.13274748,\n",
       "              1.13131145])                                                    ,\n",
       "       array([1.30961955, 1.32211222, 1.33437282, ..., 1.80004314, 1.68798472,\n",
       "              1.52702646])                                                    ,\n",
       "       array([1.28578932, 1.30289103, 1.31777487, ..., 2.57746936, 2.5767002 ,\n",
       "              2.57619959])                                                    ,\n",
       "       array([0.11539383, 0.06201415, 0.01601233, ..., 0.56744822, 0.53696689,\n",
       "              0.614517  ])                                                    ,\n",
       "       array([0.05730787, 0.05490161, 0.05285741, ..., 0.07615088, 0.07564483,\n",
       "              0.07531481])                                                    ],\n",
       "      dtype=object)"
      ]
     },
     "execution_count": 68,
     "metadata": {},
     "output_type": "execute_result"
    }
   ],
   "source": [
    "np.array([list(d.values()) for d in train_data[:, 3]])[0]"
   ]
  },
  {
   "cell_type": "markdown",
   "id": "f6f94605",
   "metadata": {},
   "source": []
  }
 ],
 "metadata": {
  "kernelspec": {
   "display_name": "car",
   "language": "python",
   "name": "python3"
  },
  "language_info": {
   "codemirror_mode": {
    "name": "ipython",
    "version": 3
   },
   "file_extension": ".py",
   "mimetype": "text/x-python",
   "name": "python",
   "nbconvert_exporter": "python",
   "pygments_lexer": "ipython3",
   "version": "3.10.8"
  },
  "vscode": {
   "interpreter": {
    "hash": "99eabf9872b4a03ad267857f02475e149eaff4f3337dcb37a9c6f7b3b5ac1aa4"
   }
  }
 },
 "nbformat": 4,
 "nbformat_minor": 5
}
